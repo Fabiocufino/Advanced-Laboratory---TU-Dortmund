import matplotlib.pyplot as plt

# Read the content of the text file
# with open('Arisi_Cufino/Calib/Chan_20_manual_2.txt', 'r') as file:
#     lines = file.readlines()

with open('Given_data/0CCEL.txt', 'r') as file:
    lines = file.readlines()

# Skip the first two rows
lines = lines[1:]

# Extract x and y values
x = []
for line in lines:
    values = line.split()
    x.append(float(values[0]))

# Plot the data
plt.plot(x)
plt.xlabel('X')
plt.ylabel('Y')
plt.title('Data Plot')
plt.grid(True)
plt.show()
