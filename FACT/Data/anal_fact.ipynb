{
 "cells": [
  {
   "cell_type": "markdown",
   "id": "6901e5c1-c394-4325-bdd7-859636629ef2",
   "metadata": {},
   "source": [
    "# FACT - Analysis\n",
    "## I. Imports"
   ]
  },
  {
   "cell_type": "code",
   "execution_count": 1,
   "id": "8ef682b6-ff45-43c8-8c01-fb2e69e9de3d",
   "metadata": {},
   "outputs": [],
   "source": [
    "import pandas as pd\n",
    "import numpy as np\n",
    "import uncertainties.unumpy as unp\n",
    "import matplotlib.pyplot as plt\n",
    "import seaborn as sns\n",
    "from scipy.optimize import minimize\n",
    "from scipy.stats import poisson\n",
    "from fact.io import read_h5py\n",
    "import h5py"
   ]
  },
  {
   "cell_type": "markdown",
   "id": "1bb26813-d17c-4feb-a2d0-5d4cd142db1d",
   "metadata": {},
   "source": [
    "## II. Load data"
   ]
  },
  {
   "cell_type": "code",
   "execution_count": 2,
   "id": "2312fc8e-88a4-45a8-b103-cb556c22c06d",
   "metadata": {},
   "outputs": [
    {
     "data": {
      "text/plain": [
       "<KeysViewHDF5 ['events', 'runs']>"
      ]
     },
     "execution_count": 2,
     "metadata": {},
     "output_type": "execute_result"
    }
   ],
   "source": [
    "# check for keys in hdf5 file\n",
    "f = h5py.File('open_crab_sample_dl3.hdf5', 'r+')\n",
    "f.keys()"
   ]
  },
  {
   "cell_type": "code",
   "execution_count": 3,
   "id": "327bf3eb-0aac-4acb-8f13-8eb7dd6c218c",
   "metadata": {},
   "outputs": [],
   "source": [
    "# load data and simulation events into pandas dataframes\n",
    "data = read_h5py('open_crab_sample_dl3.hdf5', key='events')\n",
    "test = read_h5py('gamma_corsika_headers.hdf5', key='corsika_events')\n",
    "simulation = read_h5py('gamma_test_dl3.hdf5', key='events')\n",
    "runs = read_h5py('open_crab_sample_dl3.hdf5', key='runs')"
   ]
  },
  {
   "cell_type": "code",
   "execution_count": 4,
   "id": "45e96f90-a3bc-4b17-a7ce-617f3f3baab3",
   "metadata": {},
   "outputs": [
    {
     "data": {
      "text/html": [
       "<div>\n",
       "<style scoped>\n",
       "    .dataframe tbody tr th:only-of-type {\n",
       "        vertical-align: middle;\n",
       "    }\n",
       "\n",
       "    .dataframe tbody tr th {\n",
       "        vertical-align: top;\n",
       "    }\n",
       "\n",
       "    .dataframe thead th {\n",
       "        text-align: right;\n",
       "    }\n",
       "</style>\n",
       "<table border=\"1\" class=\"dataframe\">\n",
       "  <thead>\n",
       "    <tr style=\"text-align: right;\">\n",
       "      <th></th>\n",
       "      <th>dec_prediction</th>\n",
       "      <th>disp_prediction</th>\n",
       "      <th>event_num</th>\n",
       "      <th>gamma_energy_prediction</th>\n",
       "      <th>gamma_prediction</th>\n",
       "      <th>night</th>\n",
       "      <th>pointing_position_az</th>\n",
       "      <th>pointing_position_zd</th>\n",
       "      <th>ra_prediction</th>\n",
       "      <th>run_id</th>\n",
       "      <th>theta_deg</th>\n",
       "      <th>theta_deg_off_1</th>\n",
       "      <th>theta_deg_off_2</th>\n",
       "      <th>theta_deg_off_3</th>\n",
       "      <th>theta_deg_off_4</th>\n",
       "      <th>theta_deg_off_5</th>\n",
       "    </tr>\n",
       "  </thead>\n",
       "  <tbody>\n",
       "    <tr>\n",
       "      <th>count</th>\n",
       "      <td>757993.000000</td>\n",
       "      <td>757993.000000</td>\n",
       "      <td>757993.000000</td>\n",
       "      <td>757993.000000</td>\n",
       "      <td>757993.000000</td>\n",
       "      <td>7.579930e+05</td>\n",
       "      <td>757993.000000</td>\n",
       "      <td>757993.000000</td>\n",
       "      <td>757993.000000</td>\n",
       "      <td>757993.000000</td>\n",
       "      <td>757993.000000</td>\n",
       "      <td>757993.000000</td>\n",
       "      <td>757993.000000</td>\n",
       "      <td>757993.000000</td>\n",
       "      <td>757993.000000</td>\n",
       "      <td>757993.000000</td>\n",
       "    </tr>\n",
       "    <tr>\n",
       "      <th>mean</th>\n",
       "      <td>22.013236</td>\n",
       "      <td>-0.297020</td>\n",
       "      <td>9178.316984</td>\n",
       "      <td>4360.885264</td>\n",
       "      <td>0.334372</td>\n",
       "      <td>2.013110e+07</td>\n",
       "      <td>2.625072</td>\n",
       "      <td>16.398240</td>\n",
       "      <td>5.573512</td>\n",
       "      <td>185.519817</td>\n",
       "      <td>1.866839</td>\n",
       "      <td>1.867764</td>\n",
       "      <td>1.868912</td>\n",
       "      <td>1.869049</td>\n",
       "      <td>1.868759</td>\n",
       "      <td>1.868262</td>\n",
       "    </tr>\n",
       "    <tr>\n",
       "      <th>std</th>\n",
       "      <td>1.430086</td>\n",
       "      <td>94.413370</td>\n",
       "      <td>5578.627975</td>\n",
       "      <td>5247.635278</td>\n",
       "      <td>0.279194</td>\n",
       "      <td>1.687119e+00</td>\n",
       "      <td>121.375151</td>\n",
       "      <td>7.043972</td>\n",
       "      <td>0.105346</td>\n",
       "      <td>34.581621</td>\n",
       "      <td>0.840234</td>\n",
       "      <td>0.838908</td>\n",
       "      <td>0.838294</td>\n",
       "      <td>0.839201</td>\n",
       "      <td>0.839116</td>\n",
       "      <td>0.838278</td>\n",
       "    </tr>\n",
       "    <tr>\n",
       "      <th>min</th>\n",
       "      <td>17.679544</td>\n",
       "      <td>-241.550848</td>\n",
       "      <td>1.000000</td>\n",
       "      <td>382.068652</td>\n",
       "      <td>0.000000</td>\n",
       "      <td>2.013110e+07</td>\n",
       "      <td>-179.999448</td>\n",
       "      <td>6.354311</td>\n",
       "      <td>5.256145</td>\n",
       "      <td>93.000000</td>\n",
       "      <td>0.001748</td>\n",
       "      <td>0.004167</td>\n",
       "      <td>0.002278</td>\n",
       "      <td>0.003471</td>\n",
       "      <td>0.003737</td>\n",
       "      <td>0.002036</td>\n",
       "    </tr>\n",
       "    <tr>\n",
       "      <th>25%</th>\n",
       "      <td>20.966863</td>\n",
       "      <td>-72.259528</td>\n",
       "      <td>4291.000000</td>\n",
       "      <td>1050.303506</td>\n",
       "      <td>0.056302</td>\n",
       "      <td>2.013110e+07</td>\n",
       "      <td>-111.144887</td>\n",
       "      <td>10.088320</td>\n",
       "      <td>5.496346</td>\n",
       "      <td>162.000000</td>\n",
       "      <td>1.234022</td>\n",
       "      <td>1.232077</td>\n",
       "      <td>1.231835</td>\n",
       "      <td>1.234029</td>\n",
       "      <td>1.232205</td>\n",
       "      <td>1.233320</td>\n",
       "    </tr>\n",
       "    <tr>\n",
       "      <th>50%</th>\n",
       "      <td>22.017425</td>\n",
       "      <td>29.980384</td>\n",
       "      <td>8981.000000</td>\n",
       "      <td>2070.795594</td>\n",
       "      <td>0.289181</td>\n",
       "      <td>2.013110e+07</td>\n",
       "      <td>96.222169</td>\n",
       "      <td>15.515382</td>\n",
       "      <td>5.573351</td>\n",
       "      <td>185.000000</td>\n",
       "      <td>1.852975</td>\n",
       "      <td>1.854276</td>\n",
       "      <td>1.855854</td>\n",
       "      <td>1.854865</td>\n",
       "      <td>1.853975</td>\n",
       "      <td>1.853264</td>\n",
       "    </tr>\n",
       "    <tr>\n",
       "      <th>75%</th>\n",
       "      <td>23.063348</td>\n",
       "      <td>72.193873</td>\n",
       "      <td>13883.000000</td>\n",
       "      <td>5400.411264</td>\n",
       "      <td>0.574070</td>\n",
       "      <td>2.013110e+07</td>\n",
       "      <td>113.003683</td>\n",
       "      <td>22.365255</td>\n",
       "      <td>5.650583</td>\n",
       "      <td>212.000000</td>\n",
       "      <td>2.475325</td>\n",
       "      <td>2.478197</td>\n",
       "      <td>2.480973</td>\n",
       "      <td>2.478174</td>\n",
       "      <td>2.477630</td>\n",
       "      <td>2.478049</td>\n",
       "    </tr>\n",
       "    <tr>\n",
       "      <th>max</th>\n",
       "      <td>26.353399</td>\n",
       "      <td>227.165589</td>\n",
       "      <td>22167.000000</td>\n",
       "      <td>41309.946415</td>\n",
       "      <td>0.998809</td>\n",
       "      <td>2.013111e+07</td>\n",
       "      <td>179.999775</td>\n",
       "      <td>30.426857</td>\n",
       "      <td>5.889260</td>\n",
       "      <td>246.000000</td>\n",
       "      <td>4.558997</td>\n",
       "      <td>4.721653</td>\n",
       "      <td>4.583892</td>\n",
       "      <td>4.591830</td>\n",
       "      <td>4.564557</td>\n",
       "      <td>4.581376</td>\n",
       "    </tr>\n",
       "  </tbody>\n",
       "</table>\n",
       "</div>"
      ],
      "text/plain": [
       "       dec_prediction  disp_prediction      event_num  \\\n",
       "count   757993.000000    757993.000000  757993.000000   \n",
       "mean        22.013236        -0.297020    9178.316984   \n",
       "std          1.430086        94.413370    5578.627975   \n",
       "min         17.679544      -241.550848       1.000000   \n",
       "25%         20.966863       -72.259528    4291.000000   \n",
       "50%         22.017425        29.980384    8981.000000   \n",
       "75%         23.063348        72.193873   13883.000000   \n",
       "max         26.353399       227.165589   22167.000000   \n",
       "\n",
       "       gamma_energy_prediction  gamma_prediction         night  \\\n",
       "count            757993.000000     757993.000000  7.579930e+05   \n",
       "mean               4360.885264          0.334372  2.013110e+07   \n",
       "std                5247.635278          0.279194  1.687119e+00   \n",
       "min                 382.068652          0.000000  2.013110e+07   \n",
       "25%                1050.303506          0.056302  2.013110e+07   \n",
       "50%                2070.795594          0.289181  2.013110e+07   \n",
       "75%                5400.411264          0.574070  2.013110e+07   \n",
       "max               41309.946415          0.998809  2.013111e+07   \n",
       "\n",
       "       pointing_position_az  pointing_position_zd  ra_prediction  \\\n",
       "count         757993.000000         757993.000000  757993.000000   \n",
       "mean               2.625072             16.398240       5.573512   \n",
       "std              121.375151              7.043972       0.105346   \n",
       "min             -179.999448              6.354311       5.256145   \n",
       "25%             -111.144887             10.088320       5.496346   \n",
       "50%               96.222169             15.515382       5.573351   \n",
       "75%              113.003683             22.365255       5.650583   \n",
       "max              179.999775             30.426857       5.889260   \n",
       "\n",
       "              run_id      theta_deg  theta_deg_off_1  theta_deg_off_2  \\\n",
       "count  757993.000000  757993.000000    757993.000000    757993.000000   \n",
       "mean      185.519817       1.866839         1.867764         1.868912   \n",
       "std        34.581621       0.840234         0.838908         0.838294   \n",
       "min        93.000000       0.001748         0.004167         0.002278   \n",
       "25%       162.000000       1.234022         1.232077         1.231835   \n",
       "50%       185.000000       1.852975         1.854276         1.855854   \n",
       "75%       212.000000       2.475325         2.478197         2.480973   \n",
       "max       246.000000       4.558997         4.721653         4.583892   \n",
       "\n",
       "       theta_deg_off_3  theta_deg_off_4  theta_deg_off_5  \n",
       "count    757993.000000    757993.000000    757993.000000  \n",
       "mean          1.869049         1.868759         1.868262  \n",
       "std           0.839201         0.839116         0.838278  \n",
       "min           0.003471         0.003737         0.002036  \n",
       "25%           1.234029         1.232205         1.233320  \n",
       "50%           1.854865         1.853975         1.853264  \n",
       "75%           2.478174         2.477630         2.478049  \n",
       "max           4.591830         4.564557         4.581376  "
      ]
     },
     "execution_count": 4,
     "metadata": {},
     "output_type": "execute_result"
    }
   ],
   "source": [
    "# get description of data and simulation\n",
    "data.describe()"
   ]
  },
  {
   "cell_type": "code",
   "execution_count": 5,
   "id": "9be88494-f535-4c63-b1c4-ee27b19c6695",
   "metadata": {},
   "outputs": [
    {
     "data": {
      "text/html": [
       "<div>\n",
       "<style scoped>\n",
       "    .dataframe tbody tr th:only-of-type {\n",
       "        vertical-align: middle;\n",
       "    }\n",
       "\n",
       "    .dataframe tbody tr th {\n",
       "        vertical-align: top;\n",
       "    }\n",
       "\n",
       "    .dataframe thead th {\n",
       "        text-align: right;\n",
       "    }\n",
       "</style>\n",
       "<table border=\"1\" class=\"dataframe\">\n",
       "  <thead>\n",
       "    <tr style=\"text-align: right;\">\n",
       "      <th></th>\n",
       "      <th>ceres_event_event_reuse</th>\n",
       "      <th>corsika_event_header_event_number</th>\n",
       "      <th>corsika_event_header_first_interaction_height</th>\n",
       "      <th>corsika_event_header_num_reuse</th>\n",
       "      <th>corsika_event_header_total_energy</th>\n",
       "      <th>corsika_event_header_x</th>\n",
       "      <th>corsika_event_header_y</th>\n",
       "      <th>corsika_run_header_run_number</th>\n",
       "      <th>disp_prediction</th>\n",
       "      <th>event_num</th>\n",
       "      <th>...</th>\n",
       "      <th>run_id</th>\n",
       "      <th>source_position_az</th>\n",
       "      <th>source_position_zd</th>\n",
       "      <th>theta_deg</th>\n",
       "      <th>theta_deg_off_1</th>\n",
       "      <th>theta_deg_off_2</th>\n",
       "      <th>theta_deg_off_3</th>\n",
       "      <th>theta_deg_off_4</th>\n",
       "      <th>theta_deg_off_5</th>\n",
       "      <th>true_disp</th>\n",
       "    </tr>\n",
       "  </thead>\n",
       "  <tbody>\n",
       "    <tr>\n",
       "      <th>count</th>\n",
       "      <td>771684.0</td>\n",
       "      <td>771684.000000</td>\n",
       "      <td>7.716840e+05</td>\n",
       "      <td>771684.0</td>\n",
       "      <td>771684.000000</td>\n",
       "      <td>771684.000000</td>\n",
       "      <td>771684.000000</td>\n",
       "      <td>771684.000000</td>\n",
       "      <td>771684.000000</td>\n",
       "      <td>771684.000000</td>\n",
       "      <td>...</td>\n",
       "      <td>771684.000000</td>\n",
       "      <td>7.716840e+05</td>\n",
       "      <td>771684.000000</td>\n",
       "      <td>771684.000000</td>\n",
       "      <td>771684.000000</td>\n",
       "      <td>771684.000000</td>\n",
       "      <td>771684.000000</td>\n",
       "      <td>771684.000000</td>\n",
       "      <td>771684.000000</td>\n",
       "      <td>771684.000000</td>\n",
       "    </tr>\n",
       "    <tr>\n",
       "      <th>mean</th>\n",
       "      <td>1.0</td>\n",
       "      <td>1500.072821</td>\n",
       "      <td>2.424770e+06</td>\n",
       "      <td>1.0</td>\n",
       "      <td>1749.621288</td>\n",
       "      <td>41.792047</td>\n",
       "      <td>52.323193</td>\n",
       "      <td>44434.117316</td>\n",
       "      <td>-1.047027</td>\n",
       "      <td>240.194374</td>\n",
       "      <td>...</td>\n",
       "      <td>44434.117316</td>\n",
       "      <td>3.530000e+02</td>\n",
       "      <td>14.640855</td>\n",
       "      <td>0.502519</td>\n",
       "      <td>0.864338</td>\n",
       "      <td>1.227285</td>\n",
       "      <td>1.366034</td>\n",
       "      <td>1.225594</td>\n",
       "      <td>0.862050</td>\n",
       "      <td>-0.693501</td>\n",
       "    </tr>\n",
       "    <tr>\n",
       "      <th>std</th>\n",
       "      <td>0.0</td>\n",
       "      <td>865.723617</td>\n",
       "      <td>8.290404e+05</td>\n",
       "      <td>0.0</td>\n",
       "      <td>2852.277741</td>\n",
       "      <td>8497.670004</td>\n",
       "      <td>8712.553414</td>\n",
       "      <td>44703.547995</td>\n",
       "      <td>71.889121</td>\n",
       "      <td>138.917519</td>\n",
       "      <td>...</td>\n",
       "      <td>44703.547995</td>\n",
       "      <td>3.652476e-09</td>\n",
       "      <td>8.533717</td>\n",
       "      <td>0.614289</td>\n",
       "      <td>0.507726</td>\n",
       "      <td>0.494141</td>\n",
       "      <td>0.504881</td>\n",
       "      <td>0.493825</td>\n",
       "      <td>0.507223</td>\n",
       "      <td>75.107050</td>\n",
       "    </tr>\n",
       "    <tr>\n",
       "      <th>min</th>\n",
       "      <td>1.0</td>\n",
       "      <td>1.000000</td>\n",
       "      <td>5.099331e+05</td>\n",
       "      <td>1.0</td>\n",
       "      <td>200.040900</td>\n",
       "      <td>-26916.096000</td>\n",
       "      <td>-30770.113000</td>\n",
       "      <td>10910.000000</td>\n",
       "      <td>-206.079733</td>\n",
       "      <td>1.000000</td>\n",
       "      <td>...</td>\n",
       "      <td>10910.000000</td>\n",
       "      <td>3.530000e+02</td>\n",
       "      <td>0.001194</td>\n",
       "      <td>0.000214</td>\n",
       "      <td>0.002446</td>\n",
       "      <td>0.001097</td>\n",
       "      <td>0.002648</td>\n",
       "      <td>0.006896</td>\n",
       "      <td>0.004675</td>\n",
       "      <td>-223.156034</td>\n",
       "    </tr>\n",
       "    <tr>\n",
       "      <th>25%</th>\n",
       "      <td>1.0</td>\n",
       "      <td>750.000000</td>\n",
       "      <td>1.847667e+06</td>\n",
       "      <td>1.0</td>\n",
       "      <td>638.784640</td>\n",
       "      <td>-6429.114750</td>\n",
       "      <td>-6581.087750</td>\n",
       "      <td>12372.000000</td>\n",
       "      <td>-66.470838</td>\n",
       "      <td>120.000000</td>\n",
       "      <td>...</td>\n",
       "      <td>12372.000000</td>\n",
       "      <td>3.530000e+02</td>\n",
       "      <td>7.248594</td>\n",
       "      <td>0.091911</td>\n",
       "      <td>0.571613</td>\n",
       "      <td>0.987515</td>\n",
       "      <td>1.142138</td>\n",
       "      <td>0.986030</td>\n",
       "      <td>0.569686</td>\n",
       "      <td>-67.779884</td>\n",
       "    </tr>\n",
       "    <tr>\n",
       "      <th>50%</th>\n",
       "      <td>1.0</td>\n",
       "      <td>1500.000000</td>\n",
       "      <td>2.277638e+06</td>\n",
       "      <td>1.0</td>\n",
       "      <td>945.514050</td>\n",
       "      <td>67.869205</td>\n",
       "      <td>94.942718</td>\n",
       "      <td>13872.000000</td>\n",
       "      <td>-28.215165</td>\n",
       "      <td>240.000000</td>\n",
       "      <td>...</td>\n",
       "      <td>13872.000000</td>\n",
       "      <td>3.530000e+02</td>\n",
       "      <td>14.496729</td>\n",
       "      <td>0.186677</td>\n",
       "      <td>0.659543</td>\n",
       "      <td>1.076516</td>\n",
       "      <td>1.233616</td>\n",
       "      <td>1.075744</td>\n",
       "      <td>0.658080</td>\n",
       "      <td>-11.971888</td>\n",
       "    </tr>\n",
       "    <tr>\n",
       "      <th>75%</th>\n",
       "      <td>1.0</td>\n",
       "      <td>2250.000000</td>\n",
       "      <td>2.828547e+06</td>\n",
       "      <td>1.0</td>\n",
       "      <td>1700.276650</td>\n",
       "      <td>6512.154475</td>\n",
       "      <td>6706.883525</td>\n",
       "      <td>107249.000000</td>\n",
       "      <td>65.992178</td>\n",
       "      <td>359.000000</td>\n",
       "      <td>...</td>\n",
       "      <td>107249.000000</td>\n",
       "      <td>3.530000e+02</td>\n",
       "      <td>21.928809</td>\n",
       "      <td>0.643559</td>\n",
       "      <td>0.914450</td>\n",
       "      <td>1.231654</td>\n",
       "      <td>1.379939</td>\n",
       "      <td>1.230366</td>\n",
       "      <td>0.911798</td>\n",
       "      <td>67.325990</td>\n",
       "    </tr>\n",
       "    <tr>\n",
       "      <th>max</th>\n",
       "      <td>1.0</td>\n",
       "      <td>3000.000000</td>\n",
       "      <td>1.142786e+07</td>\n",
       "      <td>1.0</td>\n",
       "      <td>49990.832000</td>\n",
       "      <td>26949.604000</td>\n",
       "      <td>30868.816000</td>\n",
       "      <td>108764.000000</td>\n",
       "      <td>195.509884</td>\n",
       "      <td>553.000000</td>\n",
       "      <td>...</td>\n",
       "      <td>108764.000000</td>\n",
       "      <td>3.530000e+02</td>\n",
       "      <td>29.999994</td>\n",
       "      <td>3.677617</td>\n",
       "      <td>3.716311</td>\n",
       "      <td>3.985366</td>\n",
       "      <td>3.964553</td>\n",
       "      <td>4.109763</td>\n",
       "      <td>3.935066</td>\n",
       "      <td>220.552363</td>\n",
       "    </tr>\n",
       "  </tbody>\n",
       "</table>\n",
       "<p>8 rows × 24 columns</p>\n",
       "</div>"
      ],
      "text/plain": [
       "       ceres_event_event_reuse  corsika_event_header_event_number  \\\n",
       "count                 771684.0                      771684.000000   \n",
       "mean                       1.0                        1500.072821   \n",
       "std                        0.0                         865.723617   \n",
       "min                        1.0                           1.000000   \n",
       "25%                        1.0                         750.000000   \n",
       "50%                        1.0                        1500.000000   \n",
       "75%                        1.0                        2250.000000   \n",
       "max                        1.0                        3000.000000   \n",
       "\n",
       "       corsika_event_header_first_interaction_height  \\\n",
       "count                                   7.716840e+05   \n",
       "mean                                    2.424770e+06   \n",
       "std                                     8.290404e+05   \n",
       "min                                     5.099331e+05   \n",
       "25%                                     1.847667e+06   \n",
       "50%                                     2.277638e+06   \n",
       "75%                                     2.828547e+06   \n",
       "max                                     1.142786e+07   \n",
       "\n",
       "       corsika_event_header_num_reuse  corsika_event_header_total_energy  \\\n",
       "count                        771684.0                      771684.000000   \n",
       "mean                              1.0                        1749.621288   \n",
       "std                               0.0                        2852.277741   \n",
       "min                               1.0                         200.040900   \n",
       "25%                               1.0                         638.784640   \n",
       "50%                               1.0                         945.514050   \n",
       "75%                               1.0                        1700.276650   \n",
       "max                               1.0                       49990.832000   \n",
       "\n",
       "       corsika_event_header_x  corsika_event_header_y  \\\n",
       "count           771684.000000           771684.000000   \n",
       "mean                41.792047               52.323193   \n",
       "std               8497.670004             8712.553414   \n",
       "min             -26916.096000           -30770.113000   \n",
       "25%              -6429.114750            -6581.087750   \n",
       "50%                 67.869205               94.942718   \n",
       "75%               6512.154475             6706.883525   \n",
       "max              26949.604000            30868.816000   \n",
       "\n",
       "       corsika_run_header_run_number  disp_prediction      event_num  ...  \\\n",
       "count                  771684.000000    771684.000000  771684.000000  ...   \n",
       "mean                    44434.117316        -1.047027     240.194374  ...   \n",
       "std                     44703.547995        71.889121     138.917519  ...   \n",
       "min                     10910.000000      -206.079733       1.000000  ...   \n",
       "25%                     12372.000000       -66.470838     120.000000  ...   \n",
       "50%                     13872.000000       -28.215165     240.000000  ...   \n",
       "75%                    107249.000000        65.992178     359.000000  ...   \n",
       "max                    108764.000000       195.509884     553.000000  ...   \n",
       "\n",
       "              run_id  source_position_az  source_position_zd      theta_deg  \\\n",
       "count  771684.000000        7.716840e+05       771684.000000  771684.000000   \n",
       "mean    44434.117316        3.530000e+02           14.640855       0.502519   \n",
       "std     44703.547995        3.652476e-09            8.533717       0.614289   \n",
       "min     10910.000000        3.530000e+02            0.001194       0.000214   \n",
       "25%     12372.000000        3.530000e+02            7.248594       0.091911   \n",
       "50%     13872.000000        3.530000e+02           14.496729       0.186677   \n",
       "75%    107249.000000        3.530000e+02           21.928809       0.643559   \n",
       "max    108764.000000        3.530000e+02           29.999994       3.677617   \n",
       "\n",
       "       theta_deg_off_1  theta_deg_off_2  theta_deg_off_3  theta_deg_off_4  \\\n",
       "count    771684.000000    771684.000000    771684.000000    771684.000000   \n",
       "mean          0.864338         1.227285         1.366034         1.225594   \n",
       "std           0.507726         0.494141         0.504881         0.493825   \n",
       "min           0.002446         0.001097         0.002648         0.006896   \n",
       "25%           0.571613         0.987515         1.142138         0.986030   \n",
       "50%           0.659543         1.076516         1.233616         1.075744   \n",
       "75%           0.914450         1.231654         1.379939         1.230366   \n",
       "max           3.716311         3.985366         3.964553         4.109763   \n",
       "\n",
       "       theta_deg_off_5      true_disp  \n",
       "count    771684.000000  771684.000000  \n",
       "mean          0.862050      -0.693501  \n",
       "std           0.507223      75.107050  \n",
       "min           0.004675    -223.156034  \n",
       "25%           0.569686     -67.779884  \n",
       "50%           0.658080     -11.971888  \n",
       "75%           0.911798      67.325990  \n",
       "max           3.935066     220.552363  \n",
       "\n",
       "[8 rows x 24 columns]"
      ]
     },
     "execution_count": 5,
     "metadata": {},
     "output_type": "execute_result"
    }
   ],
   "source": [
    "simulation.describe()"
   ]
  },
  {
   "cell_type": "code",
   "execution_count": 6,
   "id": "38af3731-b0ed-41b8-bdc3-45aff745f308",
   "metadata": {},
   "outputs": [
    {
     "data": {
      "text/html": [
       "<div>\n",
       "<style scoped>\n",
       "    .dataframe tbody tr th:only-of-type {\n",
       "        vertical-align: middle;\n",
       "    }\n",
       "\n",
       "    .dataframe tbody tr th {\n",
       "        vertical-align: top;\n",
       "    }\n",
       "\n",
       "    .dataframe thead th {\n",
       "        text-align: right;\n",
       "    }\n",
       "</style>\n",
       "<table border=\"1\" class=\"dataframe\">\n",
       "  <thead>\n",
       "    <tr style=\"text-align: right;\">\n",
       "      <th></th>\n",
       "      <th>azimuth</th>\n",
       "      <th>declination</th>\n",
       "      <th>night</th>\n",
       "      <th>ontime</th>\n",
       "      <th>right_ascension</th>\n",
       "      <th>run_id</th>\n",
       "      <th>zenith</th>\n",
       "    </tr>\n",
       "  </thead>\n",
       "  <tbody>\n",
       "    <tr>\n",
       "      <th>count</th>\n",
       "      <td>218.000000</td>\n",
       "      <td>218.000000</td>\n",
       "      <td>2.180000e+02</td>\n",
       "      <td>218.000000</td>\n",
       "      <td>218.000000</td>\n",
       "      <td>218.000000</td>\n",
       "      <td>218.000000</td>\n",
       "    </tr>\n",
       "    <tr>\n",
       "      <th>mean</th>\n",
       "      <td>-183.229037</td>\n",
       "      <td>21.996060</td>\n",
       "      <td>2.013110e+07</td>\n",
       "      <td>292.733459</td>\n",
       "      <td>5.574039</td>\n",
       "      <td>185.091743</td>\n",
       "      <td>16.329725</td>\n",
       "    </tr>\n",
       "    <tr>\n",
       "      <th>std</th>\n",
       "      <td>64.200337</td>\n",
       "      <td>0.386131</td>\n",
       "      <td>1.680324e+00</td>\n",
       "      <td>15.315585</td>\n",
       "      <td>0.033096</td>\n",
       "      <td>34.309930</td>\n",
       "      <td>7.126205</td>\n",
       "    </tr>\n",
       "    <tr>\n",
       "      <th>min</th>\n",
       "      <td>-264.570000</td>\n",
       "      <td>21.628100</td>\n",
       "      <td>2.013110e+07</td>\n",
       "      <td>112.688500</td>\n",
       "      <td>5.542500</td>\n",
       "      <td>93.000000</td>\n",
       "      <td>6.360000</td>\n",
       "    </tr>\n",
       "    <tr>\n",
       "      <th>25%</th>\n",
       "      <td>-247.795000</td>\n",
       "      <td>21.628100</td>\n",
       "      <td>2.013110e+07</td>\n",
       "      <td>293.790007</td>\n",
       "      <td>5.542500</td>\n",
       "      <td>162.000000</td>\n",
       "      <td>9.902500</td>\n",
       "    </tr>\n",
       "    <tr>\n",
       "      <th>50%</th>\n",
       "      <td>-191.365000</td>\n",
       "      <td>21.628100</td>\n",
       "      <td>2.013110e+07</td>\n",
       "      <td>294.149995</td>\n",
       "      <td>5.542500</td>\n",
       "      <td>185.000000</td>\n",
       "      <td>15.275000</td>\n",
       "    </tr>\n",
       "    <tr>\n",
       "      <th>75%</th>\n",
       "      <td>-114.605000</td>\n",
       "      <td>22.399400</td>\n",
       "      <td>2.013110e+07</td>\n",
       "      <td>294.599998</td>\n",
       "      <td>5.608610</td>\n",
       "      <td>210.750000</td>\n",
       "      <td>22.337500</td>\n",
       "    </tr>\n",
       "    <tr>\n",
       "      <th>max</th>\n",
       "      <td>-95.160000</td>\n",
       "      <td>22.399400</td>\n",
       "      <td>2.013111e+07</td>\n",
       "      <td>296.340001</td>\n",
       "      <td>5.608610</td>\n",
       "      <td>246.000000</td>\n",
       "      <td>29.870000</td>\n",
       "    </tr>\n",
       "  </tbody>\n",
       "</table>\n",
       "</div>"
      ],
      "text/plain": [
       "          azimuth  declination         night      ontime  right_ascension  \\\n",
       "count  218.000000   218.000000  2.180000e+02  218.000000       218.000000   \n",
       "mean  -183.229037    21.996060  2.013110e+07  292.733459         5.574039   \n",
       "std     64.200337     0.386131  1.680324e+00   15.315585         0.033096   \n",
       "min   -264.570000    21.628100  2.013110e+07  112.688500         5.542500   \n",
       "25%   -247.795000    21.628100  2.013110e+07  293.790007         5.542500   \n",
       "50%   -191.365000    21.628100  2.013110e+07  294.149995         5.542500   \n",
       "75%   -114.605000    22.399400  2.013110e+07  294.599998         5.608610   \n",
       "max    -95.160000    22.399400  2.013111e+07  296.340001         5.608610   \n",
       "\n",
       "           run_id      zenith  \n",
       "count  218.000000  218.000000  \n",
       "mean   185.091743   16.329725  \n",
       "std     34.309930    7.126205  \n",
       "min     93.000000    6.360000  \n",
       "25%    162.000000    9.902500  \n",
       "50%    185.000000   15.275000  \n",
       "75%    210.750000   22.337500  \n",
       "max    246.000000   29.870000  "
      ]
     },
     "execution_count": 6,
     "metadata": {},
     "output_type": "execute_result"
    }
   ],
   "source": [
    "runs.describe()"
   ]
  },
  {
   "cell_type": "code",
   "execution_count": 7,
   "id": "5d036491-7873-4cf9-bc9c-8ea2b732ad2f",
   "metadata": {},
   "outputs": [
    {
     "data": {
      "text/html": [
       "<div>\n",
       "<style scoped>\n",
       "    .dataframe tbody tr th:only-of-type {\n",
       "        vertical-align: middle;\n",
       "    }\n",
       "\n",
       "    .dataframe tbody tr th {\n",
       "        vertical-align: top;\n",
       "    }\n",
       "\n",
       "    .dataframe thead th {\n",
       "        text-align: right;\n",
       "    }\n",
       "</style>\n",
       "<table border=\"1\" class=\"dataframe\">\n",
       "  <thead>\n",
       "    <tr style=\"text-align: right;\">\n",
       "      <th></th>\n",
       "      <th>azimuth</th>\n",
       "      <th>event_number</th>\n",
       "      <th>first_interaction_height</th>\n",
       "      <th>first_target_id</th>\n",
       "      <th>momentum_minus_z</th>\n",
       "      <th>momentum_x</th>\n",
       "      <th>momentum_y</th>\n",
       "      <th>particle_id</th>\n",
       "      <th>run_number</th>\n",
       "      <th>starting_altitude</th>\n",
       "      <th>total_energy</th>\n",
       "      <th>zenith</th>\n",
       "    </tr>\n",
       "  </thead>\n",
       "  <tbody>\n",
       "    <tr>\n",
       "      <th>count</th>\n",
       "      <td>18000000.0</td>\n",
       "      <td>1.800000e+07</td>\n",
       "      <td>1.800000e+07</td>\n",
       "      <td>18000000.0</td>\n",
       "      <td>1.800000e+07</td>\n",
       "      <td>1.800000e+07</td>\n",
       "      <td>18000000.0</td>\n",
       "      <td>1.800000e+07</td>\n",
       "      <td>1.800000e+07</td>\n",
       "      <td>18000000.0</td>\n",
       "      <td>1.800000e+07</td>\n",
       "      <td>1.800000e+07</td>\n",
       "    </tr>\n",
       "    <tr>\n",
       "      <th>mean</th>\n",
       "      <td>0.0</td>\n",
       "      <td>1.444599e+03</td>\n",
       "      <td>2.623324e+06</td>\n",
       "      <td>0.0</td>\n",
       "      <td>4.466992e+02</td>\n",
       "      <td>1.178653e+02</td>\n",
       "      <td>0.0</td>\n",
       "      <td>9.320676e-01</td>\n",
       "      <td>4.724382e+04</td>\n",
       "      <td>0.0</td>\n",
       "      <td>4.730965e+02</td>\n",
       "      <td>2.601062e-01</td>\n",
       "    </tr>\n",
       "    <tr>\n",
       "      <th>std</th>\n",
       "      <td>0.0</td>\n",
       "      <td>8.566139e+02</td>\n",
       "      <td>8.499143e+05</td>\n",
       "      <td>0.0</td>\n",
       "      <td>8.050920e+02</td>\n",
       "      <td>2.502790e+02</td>\n",
       "      <td>0.0</td>\n",
       "      <td>6.690131e-02</td>\n",
       "      <td>4.599138e+04</td>\n",
       "      <td>0.0</td>\n",
       "      <td>8.414752e+02</td>\n",
       "      <td>1.482813e-01</td>\n",
       "    </tr>\n",
       "    <tr>\n",
       "      <th>min</th>\n",
       "      <td>0.0</td>\n",
       "      <td>1.000000e+00</td>\n",
       "      <td>2.200000e+05</td>\n",
       "      <td>0.0</td>\n",
       "      <td>1.732256e+02</td>\n",
       "      <td>7.792237e-03</td>\n",
       "      <td>0.0</td>\n",
       "      <td>1.000000e+00</td>\n",
       "      <td>1.091000e+04</td>\n",
       "      <td>0.0</td>\n",
       "      <td>2.000000e+02</td>\n",
       "      <td>1.864444e-05</td>\n",
       "    </tr>\n",
       "    <tr>\n",
       "      <th>25%</th>\n",
       "      <td>0.0</td>\n",
       "      <td>7.507500e+02</td>\n",
       "      <td>1.965484e+06</td>\n",
       "      <td>0.0</td>\n",
       "      <td>2.264141e+02</td>\n",
       "      <td>4.057689e+01</td>\n",
       "      <td>0.0</td>\n",
       "      <td>1.000000e+00</td>\n",
       "      <td>1.240975e+04</td>\n",
       "      <td>0.0</td>\n",
       "      <td>2.368526e+02</td>\n",
       "      <td>1.305281e-01</td>\n",
       "    </tr>\n",
       "    <tr>\n",
       "      <th>50%</th>\n",
       "      <td>0.0</td>\n",
       "      <td>1.500500e+03</td>\n",
       "      <td>2.409944e+06</td>\n",
       "      <td>0.0</td>\n",
       "      <td>2.873433e+02</td>\n",
       "      <td>7.997155e+01</td>\n",
       "      <td>0.0</td>\n",
       "      <td>1.000000e+00</td>\n",
       "      <td>1.390950e+04</td>\n",
       "      <td>0.0</td>\n",
       "      <td>3.006160e+02</td>\n",
       "      <td>2.605300e-01</td>\n",
       "    </tr>\n",
       "    <tr>\n",
       "      <th>75%</th>\n",
       "      <td>0.0</td>\n",
       "      <td>2.250250e+03</td>\n",
       "      <td>2.979364e+06</td>\n",
       "      <td>0.0</td>\n",
       "      <td>4.320666e+02</td>\n",
       "      <td>1.257226e+02</td>\n",
       "      <td>0.0</td>\n",
       "      <td>1.000000e+00</td>\n",
       "      <td>1.072642e+05</td>\n",
       "      <td>0.0</td>\n",
       "      <td>4.519907e+02</td>\n",
       "      <td>3.908020e-01</td>\n",
       "    </tr>\n",
       "    <tr>\n",
       "      <th>max</th>\n",
       "      <td>0.0</td>\n",
       "      <td>3.000000e+03</td>\n",
       "      <td>1.150390e+07</td>\n",
       "      <td>0.0</td>\n",
       "      <td>4.996022e+04</td>\n",
       "      <td>2.393646e+04</td>\n",
       "      <td>0.0</td>\n",
       "      <td>1.000000e+00</td>\n",
       "      <td>1.087640e+05</td>\n",
       "      <td>0.0</td>\n",
       "      <td>4.999083e+04</td>\n",
       "      <td>5.235988e-01</td>\n",
       "    </tr>\n",
       "  </tbody>\n",
       "</table>\n",
       "</div>"
      ],
      "text/plain": [
       "          azimuth  event_number  first_interaction_height  first_target_id  \\\n",
       "count  18000000.0  1.800000e+07              1.800000e+07       18000000.0   \n",
       "mean          0.0  1.444599e+03              2.623324e+06              0.0   \n",
       "std           0.0  8.566139e+02              8.499143e+05              0.0   \n",
       "min           0.0  1.000000e+00              2.200000e+05              0.0   \n",
       "25%           0.0  7.507500e+02              1.965484e+06              0.0   \n",
       "50%           0.0  1.500500e+03              2.409944e+06              0.0   \n",
       "75%           0.0  2.250250e+03              2.979364e+06              0.0   \n",
       "max           0.0  3.000000e+03              1.150390e+07              0.0   \n",
       "\n",
       "       momentum_minus_z    momentum_x  momentum_y   particle_id    run_number  \\\n",
       "count      1.800000e+07  1.800000e+07  18000000.0  1.800000e+07  1.800000e+07   \n",
       "mean       4.466992e+02  1.178653e+02         0.0  9.320676e-01  4.724382e+04   \n",
       "std        8.050920e+02  2.502790e+02         0.0  6.690131e-02  4.599138e+04   \n",
       "min        1.732256e+02  7.792237e-03         0.0  1.000000e+00  1.091000e+04   \n",
       "25%        2.264141e+02  4.057689e+01         0.0  1.000000e+00  1.240975e+04   \n",
       "50%        2.873433e+02  7.997155e+01         0.0  1.000000e+00  1.390950e+04   \n",
       "75%        4.320666e+02  1.257226e+02         0.0  1.000000e+00  1.072642e+05   \n",
       "max        4.996022e+04  2.393646e+04         0.0  1.000000e+00  1.087640e+05   \n",
       "\n",
       "       starting_altitude  total_energy        zenith  \n",
       "count         18000000.0  1.800000e+07  1.800000e+07  \n",
       "mean                 0.0  4.730965e+02  2.601062e-01  \n",
       "std                  0.0  8.414752e+02  1.482813e-01  \n",
       "min                  0.0  2.000000e+02  1.864444e-05  \n",
       "25%                  0.0  2.368526e+02  1.305281e-01  \n",
       "50%                  0.0  3.006160e+02  2.605300e-01  \n",
       "75%                  0.0  4.519907e+02  3.908020e-01  \n",
       "max                  0.0  4.999083e+04  5.235988e-01  "
      ]
     },
     "execution_count": 7,
     "metadata": {},
     "output_type": "execute_result"
    }
   ],
   "source": [
    "test.describe()"
   ]
  },
  {
   "cell_type": "markdown",
   "id": "61622101-eec3-4293-b15c-73d6b4b5ccbc",
   "metadata": {},
   "source": [
    "## III. data Selection"
   ]
  },
  {
   "cell_type": "code",
   "execution_count": 8,
   "id": "d2ed6374-827c-4699-a5cf-f11a644b46e1",
   "metadata": {},
   "outputs": [],
   "source": [
    "# only select data with gamma_prediction >= 0.8\n",
    "data = data[data['gamma_prediction']>= 0.8]\n",
    "simulation = simulation[simulation['gamma_prediction']>= 0.8]"
   ]
  },
  {
   "cell_type": "markdown",
   "id": "ea7e8de0-a1f7-4b80-8273-f5d13247c0d7",
   "metadata": {},
   "source": [
    "## IV. Theta-Square Plot and Detection Significance\n",
    "### Theta-Square Plot"
   ]
  },
  {
   "cell_type": "code",
   "execution_count": 9,
   "id": "f0c40381-4b9e-4b33-9d21-7b9219aa6adc",
   "metadata": {},
   "outputs": [],
   "source": [
    "# get theta-squared for the source and the five off positions\n",
    "# use poisson error for theta_on\n",
    "theta_on_nominal_values = data['theta_deg']\n",
    "theta_on_err = np.zeros(theta_on_nominal_values.size)\n",
    "theta_on_err = np.sqrt(theta_on_nominal_values.size)\n",
    "\n",
    "theta_on = unp.uarray(theta_on_nominal_values, theta_on_err)\n",
    "theta_on_squared = theta_on**2\n",
    "\n",
    "# compute average of the five off positions\n",
    "theta_off_1_squared = data['theta_deg_off_1']**2\n",
    "theta_off_2_squared = data['theta_deg_off_2']**2\n",
    "theta_off_3_squared = data['theta_deg_off_3']**2\n",
    "theta_off_4_squared = data['theta_deg_off_4']**2\n",
    "theta_off_5_squared = data['theta_deg_off_5']**2\n",
    "\n",
    "theta_off_squared = np.concatenate((theta_off_1_squared, theta_off_2_squared, theta_off_3_squared, theta_off_4_squared, theta_off_5_squared))"
   ]
  },
  {
   "cell_type": "code",
   "execution_count": 10,
   "id": "15d4e0e9-e167-44ce-bf44-a36a74ff19c7",
   "metadata": {},
   "outputs": [
    {
     "ename": "FileNotFoundError",
     "evalue": "[Errno 2] No such file or directory: 'plots/theta_squared.pdf'",
     "output_type": "error",
     "traceback": [
      "\u001b[0;31m---------------------------------------------------------------------------\u001b[0m",
      "\u001b[0;31mFileNotFoundError\u001b[0m                         Traceback (most recent call last)",
      "\u001b[0;32m/var/folders/9_/9sylzz7s6t7d2tn8wfrg3r380000gn/T/ipykernel_61774/4054076723.py\u001b[0m in \u001b[0;36m<module>\u001b[0;34m\u001b[0m\n\u001b[1;32m     25\u001b[0m \u001b[0mplt\u001b[0m\u001b[0;34m.\u001b[0m\u001b[0mylabel\u001b[0m\u001b[0;34m(\u001b[0m\u001b[0;34mr'Number of events'\u001b[0m\u001b[0;34m)\u001b[0m\u001b[0;34m\u001b[0m\u001b[0;34m\u001b[0m\u001b[0m\n\u001b[1;32m     26\u001b[0m \u001b[0mplt\u001b[0m\u001b[0;34m.\u001b[0m\u001b[0mtight_layout\u001b[0m\u001b[0;34m(\u001b[0m\u001b[0;34m)\u001b[0m\u001b[0;34m;\u001b[0m\u001b[0;34m\u001b[0m\u001b[0;34m\u001b[0m\u001b[0m\n\u001b[0;32m---> 27\u001b[0;31m \u001b[0mplt\u001b[0m\u001b[0;34m.\u001b[0m\u001b[0msavefig\u001b[0m\u001b[0;34m(\u001b[0m\u001b[0;34m'plots/theta_squared.pdf'\u001b[0m\u001b[0;34m)\u001b[0m\u001b[0;34m\u001b[0m\u001b[0;34m\u001b[0m\u001b[0m\n\u001b[0m",
      "\u001b[0;32m~/miniconda3/envs/fp-fact/lib/python3.7/site-packages/matplotlib/pyplot.py\u001b[0m in \u001b[0;36msavefig\u001b[0;34m(*args, **kwargs)\u001b[0m\n\u001b[1;32m    975\u001b[0m \u001b[0;32mdef\u001b[0m \u001b[0msavefig\u001b[0m\u001b[0;34m(\u001b[0m\u001b[0;34m*\u001b[0m\u001b[0margs\u001b[0m\u001b[0;34m,\u001b[0m \u001b[0;34m**\u001b[0m\u001b[0mkwargs\u001b[0m\u001b[0;34m)\u001b[0m\u001b[0;34m:\u001b[0m\u001b[0;34m\u001b[0m\u001b[0;34m\u001b[0m\u001b[0m\n\u001b[1;32m    976\u001b[0m     \u001b[0mfig\u001b[0m \u001b[0;34m=\u001b[0m \u001b[0mgcf\u001b[0m\u001b[0;34m(\u001b[0m\u001b[0;34m)\u001b[0m\u001b[0;34m\u001b[0m\u001b[0;34m\u001b[0m\u001b[0m\n\u001b[0;32m--> 977\u001b[0;31m     \u001b[0mres\u001b[0m \u001b[0;34m=\u001b[0m \u001b[0mfig\u001b[0m\u001b[0;34m.\u001b[0m\u001b[0msavefig\u001b[0m\u001b[0;34m(\u001b[0m\u001b[0;34m*\u001b[0m\u001b[0margs\u001b[0m\u001b[0;34m,\u001b[0m \u001b[0;34m**\u001b[0m\u001b[0mkwargs\u001b[0m\u001b[0;34m)\u001b[0m\u001b[0;34m\u001b[0m\u001b[0;34m\u001b[0m\u001b[0m\n\u001b[0m\u001b[1;32m    978\u001b[0m     \u001b[0mfig\u001b[0m\u001b[0;34m.\u001b[0m\u001b[0mcanvas\u001b[0m\u001b[0;34m.\u001b[0m\u001b[0mdraw_idle\u001b[0m\u001b[0;34m(\u001b[0m\u001b[0;34m)\u001b[0m   \u001b[0;31m# need this if 'transparent=True' to reset colors\u001b[0m\u001b[0;34m\u001b[0m\u001b[0;34m\u001b[0m\u001b[0m\n\u001b[1;32m    979\u001b[0m     \u001b[0;32mreturn\u001b[0m \u001b[0mres\u001b[0m\u001b[0;34m\u001b[0m\u001b[0;34m\u001b[0m\u001b[0m\n",
      "\u001b[0;32m~/miniconda3/envs/fp-fact/lib/python3.7/site-packages/matplotlib/figure.py\u001b[0m in \u001b[0;36msavefig\u001b[0;34m(self, fname, transparent, **kwargs)\u001b[0m\n\u001b[1;32m   3056\u001b[0m                         ax.patch._cm_set(facecolor='none', edgecolor='none'))\n\u001b[1;32m   3057\u001b[0m \u001b[0;34m\u001b[0m\u001b[0m\n\u001b[0;32m-> 3058\u001b[0;31m             \u001b[0mself\u001b[0m\u001b[0;34m.\u001b[0m\u001b[0mcanvas\u001b[0m\u001b[0;34m.\u001b[0m\u001b[0mprint_figure\u001b[0m\u001b[0;34m(\u001b[0m\u001b[0mfname\u001b[0m\u001b[0;34m,\u001b[0m \u001b[0;34m**\u001b[0m\u001b[0mkwargs\u001b[0m\u001b[0;34m)\u001b[0m\u001b[0;34m\u001b[0m\u001b[0;34m\u001b[0m\u001b[0m\n\u001b[0m\u001b[1;32m   3059\u001b[0m \u001b[0;34m\u001b[0m\u001b[0m\n\u001b[1;32m   3060\u001b[0m     def ginput(self, n=1, timeout=30, show_clicks=True,\n",
      "\u001b[0;32m~/miniconda3/envs/fp-fact/lib/python3.7/site-packages/matplotlib/backend_bases.py\u001b[0m in \u001b[0;36mprint_figure\u001b[0;34m(self, filename, dpi, facecolor, edgecolor, orientation, format, bbox_inches, pad_inches, bbox_extra_artists, backend, **kwargs)\u001b[0m\n\u001b[1;32m   2323\u001b[0m                         \u001b[0morientation\u001b[0m\u001b[0;34m=\u001b[0m\u001b[0morientation\u001b[0m\u001b[0;34m,\u001b[0m\u001b[0;34m\u001b[0m\u001b[0;34m\u001b[0m\u001b[0m\n\u001b[1;32m   2324\u001b[0m                         \u001b[0mbbox_inches_restore\u001b[0m\u001b[0;34m=\u001b[0m\u001b[0m_bbox_inches_restore\u001b[0m\u001b[0;34m,\u001b[0m\u001b[0;34m\u001b[0m\u001b[0;34m\u001b[0m\u001b[0m\n\u001b[0;32m-> 2325\u001b[0;31m                         **kwargs)\n\u001b[0m\u001b[1;32m   2326\u001b[0m             \u001b[0;32mfinally\u001b[0m\u001b[0;34m:\u001b[0m\u001b[0;34m\u001b[0m\u001b[0;34m\u001b[0m\u001b[0m\n\u001b[1;32m   2327\u001b[0m                 \u001b[0;32mif\u001b[0m \u001b[0mbbox_inches\u001b[0m \u001b[0;32mand\u001b[0m \u001b[0mrestore_bbox\u001b[0m\u001b[0;34m:\u001b[0m\u001b[0;34m\u001b[0m\u001b[0;34m\u001b[0m\u001b[0m\n",
      "\u001b[0;32m~/miniconda3/envs/fp-fact/lib/python3.7/site-packages/matplotlib/backend_bases.py\u001b[0m in \u001b[0;36mwrapper\u001b[0;34m(*args, **kwargs)\u001b[0m\n\u001b[1;32m   1646\u001b[0m             \u001b[0mkwargs\u001b[0m\u001b[0;34m.\u001b[0m\u001b[0mpop\u001b[0m\u001b[0;34m(\u001b[0m\u001b[0marg\u001b[0m\u001b[0;34m)\u001b[0m\u001b[0;34m\u001b[0m\u001b[0;34m\u001b[0m\u001b[0m\n\u001b[1;32m   1647\u001b[0m \u001b[0;34m\u001b[0m\u001b[0m\n\u001b[0;32m-> 1648\u001b[0;31m         \u001b[0;32mreturn\u001b[0m \u001b[0mfunc\u001b[0m\u001b[0;34m(\u001b[0m\u001b[0;34m*\u001b[0m\u001b[0margs\u001b[0m\u001b[0;34m,\u001b[0m \u001b[0;34m**\u001b[0m\u001b[0mkwargs\u001b[0m\u001b[0;34m)\u001b[0m\u001b[0;34m\u001b[0m\u001b[0;34m\u001b[0m\u001b[0m\n\u001b[0m\u001b[1;32m   1649\u001b[0m \u001b[0;34m\u001b[0m\u001b[0m\n\u001b[1;32m   1650\u001b[0m     \u001b[0;32mreturn\u001b[0m \u001b[0mwrapper\u001b[0m\u001b[0;34m\u001b[0m\u001b[0;34m\u001b[0m\u001b[0m\n",
      "\u001b[0;32m~/miniconda3/envs/fp-fact/lib/python3.7/site-packages/matplotlib/_api/deprecation.py\u001b[0m in \u001b[0;36mwrapper\u001b[0;34m(*inner_args, **inner_kwargs)\u001b[0m\n\u001b[1;32m    387\u001b[0m             \u001b[0;31m# Early return in the simple, non-deprecated case (much faster than\u001b[0m\u001b[0;34m\u001b[0m\u001b[0;34m\u001b[0m\u001b[0;34m\u001b[0m\u001b[0m\n\u001b[1;32m    388\u001b[0m             \u001b[0;31m# calling bind()).\u001b[0m\u001b[0;34m\u001b[0m\u001b[0;34m\u001b[0m\u001b[0;34m\u001b[0m\u001b[0m\n\u001b[0;32m--> 389\u001b[0;31m             \u001b[0;32mreturn\u001b[0m \u001b[0mfunc\u001b[0m\u001b[0;34m(\u001b[0m\u001b[0;34m*\u001b[0m\u001b[0minner_args\u001b[0m\u001b[0;34m,\u001b[0m \u001b[0;34m**\u001b[0m\u001b[0minner_kwargs\u001b[0m\u001b[0;34m)\u001b[0m\u001b[0;34m\u001b[0m\u001b[0;34m\u001b[0m\u001b[0m\n\u001b[0m\u001b[1;32m    390\u001b[0m         \u001b[0marguments\u001b[0m \u001b[0;34m=\u001b[0m \u001b[0msignature\u001b[0m\u001b[0;34m.\u001b[0m\u001b[0mbind\u001b[0m\u001b[0;34m(\u001b[0m\u001b[0;34m*\u001b[0m\u001b[0minner_args\u001b[0m\u001b[0;34m,\u001b[0m \u001b[0;34m**\u001b[0m\u001b[0minner_kwargs\u001b[0m\u001b[0;34m)\u001b[0m\u001b[0;34m.\u001b[0m\u001b[0marguments\u001b[0m\u001b[0;34m\u001b[0m\u001b[0;34m\u001b[0m\u001b[0m\n\u001b[1;32m    391\u001b[0m         \u001b[0;32mif\u001b[0m \u001b[0mis_varargs\u001b[0m \u001b[0;32mand\u001b[0m \u001b[0marguments\u001b[0m\u001b[0;34m.\u001b[0m\u001b[0mget\u001b[0m\u001b[0;34m(\u001b[0m\u001b[0mname\u001b[0m\u001b[0;34m)\u001b[0m\u001b[0;34m:\u001b[0m\u001b[0;34m\u001b[0m\u001b[0;34m\u001b[0m\u001b[0m\n",
      "\u001b[0;32m~/miniconda3/envs/fp-fact/lib/python3.7/site-packages/matplotlib/backends/backend_pdf.py\u001b[0m in \u001b[0;36mprint_pdf\u001b[0;34m(self, filename, dpi, bbox_inches_restore, metadata)\u001b[0m\n\u001b[1;32m   2781\u001b[0m             \u001b[0mfile\u001b[0m \u001b[0;34m=\u001b[0m \u001b[0mfilename\u001b[0m\u001b[0;34m.\u001b[0m\u001b[0m_file\u001b[0m\u001b[0;34m\u001b[0m\u001b[0;34m\u001b[0m\u001b[0m\n\u001b[1;32m   2782\u001b[0m         \u001b[0;32melse\u001b[0m\u001b[0;34m:\u001b[0m\u001b[0;34m\u001b[0m\u001b[0;34m\u001b[0m\u001b[0m\n\u001b[0;32m-> 2783\u001b[0;31m             \u001b[0mfile\u001b[0m \u001b[0;34m=\u001b[0m \u001b[0mPdfFile\u001b[0m\u001b[0;34m(\u001b[0m\u001b[0mfilename\u001b[0m\u001b[0;34m,\u001b[0m \u001b[0mmetadata\u001b[0m\u001b[0;34m=\u001b[0m\u001b[0mmetadata\u001b[0m\u001b[0;34m)\u001b[0m\u001b[0;34m\u001b[0m\u001b[0;34m\u001b[0m\u001b[0m\n\u001b[0m\u001b[1;32m   2784\u001b[0m         \u001b[0;32mtry\u001b[0m\u001b[0;34m:\u001b[0m\u001b[0;34m\u001b[0m\u001b[0;34m\u001b[0m\u001b[0m\n\u001b[1;32m   2785\u001b[0m             \u001b[0mfile\u001b[0m\u001b[0;34m.\u001b[0m\u001b[0mnewPage\u001b[0m\u001b[0;34m(\u001b[0m\u001b[0mwidth\u001b[0m\u001b[0;34m,\u001b[0m \u001b[0mheight\u001b[0m\u001b[0;34m)\u001b[0m\u001b[0;34m\u001b[0m\u001b[0;34m\u001b[0m\u001b[0m\n",
      "\u001b[0;32m~/miniconda3/envs/fp-fact/lib/python3.7/site-packages/matplotlib/backends/backend_pdf.py\u001b[0m in \u001b[0;36m__init__\u001b[0;34m(self, filename, metadata)\u001b[0m\n\u001b[1;32m    652\u001b[0m         \u001b[0mself\u001b[0m\u001b[0;34m.\u001b[0m\u001b[0moriginal_file_like\u001b[0m \u001b[0;34m=\u001b[0m \u001b[0;32mNone\u001b[0m\u001b[0;34m\u001b[0m\u001b[0;34m\u001b[0m\u001b[0m\n\u001b[1;32m    653\u001b[0m         \u001b[0mself\u001b[0m\u001b[0;34m.\u001b[0m\u001b[0mtell_base\u001b[0m \u001b[0;34m=\u001b[0m \u001b[0;36m0\u001b[0m\u001b[0;34m\u001b[0m\u001b[0;34m\u001b[0m\u001b[0m\n\u001b[0;32m--> 654\u001b[0;31m         \u001b[0mfh\u001b[0m\u001b[0;34m,\u001b[0m \u001b[0mopened\u001b[0m \u001b[0;34m=\u001b[0m \u001b[0mcbook\u001b[0m\u001b[0;34m.\u001b[0m\u001b[0mto_filehandle\u001b[0m\u001b[0;34m(\u001b[0m\u001b[0mfilename\u001b[0m\u001b[0;34m,\u001b[0m \u001b[0;34m\"wb\"\u001b[0m\u001b[0;34m,\u001b[0m \u001b[0mreturn_opened\u001b[0m\u001b[0;34m=\u001b[0m\u001b[0;32mTrue\u001b[0m\u001b[0;34m)\u001b[0m\u001b[0;34m\u001b[0m\u001b[0;34m\u001b[0m\u001b[0m\n\u001b[0m\u001b[1;32m    655\u001b[0m         \u001b[0;32mif\u001b[0m \u001b[0;32mnot\u001b[0m \u001b[0mopened\u001b[0m\u001b[0;34m:\u001b[0m\u001b[0;34m\u001b[0m\u001b[0;34m\u001b[0m\u001b[0m\n\u001b[1;32m    656\u001b[0m             \u001b[0;32mtry\u001b[0m\u001b[0;34m:\u001b[0m\u001b[0;34m\u001b[0m\u001b[0;34m\u001b[0m\u001b[0m\n",
      "\u001b[0;32m~/miniconda3/envs/fp-fact/lib/python3.7/site-packages/matplotlib/cbook/__init__.py\u001b[0m in \u001b[0;36mto_filehandle\u001b[0;34m(fname, flag, return_opened, encoding)\u001b[0m\n\u001b[1;32m    449\u001b[0m             \u001b[0mfh\u001b[0m \u001b[0;34m=\u001b[0m \u001b[0mbz2\u001b[0m\u001b[0;34m.\u001b[0m\u001b[0mBZ2File\u001b[0m\u001b[0;34m(\u001b[0m\u001b[0mfname\u001b[0m\u001b[0;34m,\u001b[0m \u001b[0mflag\u001b[0m\u001b[0;34m)\u001b[0m\u001b[0;34m\u001b[0m\u001b[0;34m\u001b[0m\u001b[0m\n\u001b[1;32m    450\u001b[0m         \u001b[0;32melse\u001b[0m\u001b[0;34m:\u001b[0m\u001b[0;34m\u001b[0m\u001b[0;34m\u001b[0m\u001b[0m\n\u001b[0;32m--> 451\u001b[0;31m             \u001b[0mfh\u001b[0m \u001b[0;34m=\u001b[0m \u001b[0mopen\u001b[0m\u001b[0;34m(\u001b[0m\u001b[0mfname\u001b[0m\u001b[0;34m,\u001b[0m \u001b[0mflag\u001b[0m\u001b[0;34m,\u001b[0m \u001b[0mencoding\u001b[0m\u001b[0;34m=\u001b[0m\u001b[0mencoding\u001b[0m\u001b[0;34m)\u001b[0m\u001b[0;34m\u001b[0m\u001b[0;34m\u001b[0m\u001b[0m\n\u001b[0m\u001b[1;32m    452\u001b[0m         \u001b[0mopened\u001b[0m \u001b[0;34m=\u001b[0m \u001b[0;32mTrue\u001b[0m\u001b[0;34m\u001b[0m\u001b[0;34m\u001b[0m\u001b[0m\n\u001b[1;32m    453\u001b[0m     \u001b[0;32melif\u001b[0m \u001b[0mhasattr\u001b[0m\u001b[0;34m(\u001b[0m\u001b[0mfname\u001b[0m\u001b[0;34m,\u001b[0m \u001b[0;34m'seek'\u001b[0m\u001b[0;34m)\u001b[0m\u001b[0;34m:\u001b[0m\u001b[0;34m\u001b[0m\u001b[0;34m\u001b[0m\u001b[0m\n",
      "\u001b[0;31mFileNotFoundError\u001b[0m: [Errno 2] No such file or directory: 'plots/theta_squared.pdf'"
     ]
    },
    {
     "data": {
      "image/png": "[encoded data removed]",
      "text/plain": [
       "<Figure size 640x480 with 1 Axes>"
      ]
     },
     "metadata": {},
     "output_type": "display_data"
    }
   ],
   "source": [
    "# make theta-squared plot\n",
    "number_of_bins = 40\n",
    "\n",
    "# normalize histogram for the off positions\n",
    "hist_off, bins_off = np.histogram(theta_off_squared, range=(0, 0.30), bins=number_of_bins)\n",
    "hist_off_norm = hist_off/5\n",
    "\n",
    "width_off = bins_off[1]-bins_off[0]\n",
    "center_off = (bins_off[:-1]+bins_off[1:])/2\n",
    "\n",
    "# get histogram for the on position\n",
    "hist_on, bins_on = np.histogram(unp.nominal_values(theta_on_squared), range=(0, 0.30), bins=number_of_bins)\n",
    "width_on = bins_on[1]-bins_on[0]\n",
    "center_on = (bins_on[:-1]+bins_on[1:])/2\n",
    "hist_on_err = np.sqrt(hist_on)\n",
    "\n",
    "plt.errorbar(center_on, hist_on, xerr=0.5*width_on, yerr=hist_on_err, linestyle='', label='On')\n",
    "plt.errorbar(center_off, hist_off_norm, xerr=0.5*width_off, linestyle='', label='Off')\n",
    "plt.bar(center_off, hist_off_norm, align='center', width=width_off, color='grey', alpha=0.3)\n",
    "plt.vlines(0.025, ymin=0, ymax=400, linestyles='dashed', color='grey');\n",
    "plt.xlim(0, 0.30);\n",
    "plt.ylim(0, 400);\n",
    "plt.legend();\n",
    "plt.xlabel(r'$(\\theta \\: / \\: ^\\circ)^2$');\n",
    "plt.ylabel(r'Number of events')\n",
    "plt.tight_layout();\n",
    "plt.savefig('theta_squared.pdf')"
   ]
  },
  {
   "cell_type": "code",
   "execution_count": null,
   "id": "19adc3f1-c8f1-441f-a20b-37ccc1d3a967",
   "metadata": {},
   "outputs": [],
   "source": [
    "# select all theta square values <= 0.025^2 for the source and the 5 off positions\n",
    "theta_on_squared = theta_on_squared[theta_on_squared<=0.025]\n",
    "theta_off_squared = theta_off_squared[theta_off_squared<=0.025]"
   ]
  },
  {
   "cell_type": "markdown",
   "id": "11feabd5-f4a4-4e22-b553-ef1948438cc3",
   "metadata": {},
   "source": [
    "### Detection Significance"
   ]
  },
  {
   "cell_type": "code",
   "execution_count": null,
   "id": "5b2b2273-8021-475f-9d82-072f8e607421",
   "metadata": {},
   "outputs": [],
   "source": [
    "def get_detection_significance(N_on, N_off, alpha=0.2):\n",
    "    '''Takes the number of reconstructed events in the On region N_on and that of the Off region N_off and returns the\n",
    "    detection significance S.'''\n",
    "    \n",
    "    S = unp.sqrt(2)*unp.sqrt(N_on*unp.log(((1+alpha)/(alpha))*(N_on/(N_on+N_off))) + N_off*unp.log((1+alpha)*(N_off/(N_on+N_off))))\n",
    "    return S"
   ]
  },
  {
   "cell_type": "code",
   "execution_count": null,
   "id": "a21f919b-90ee-416c-8eaf-92b6c29beef4",
   "metadata": {},
   "outputs": [
    {
     "name": "stdout",
     "output_type": "stream",
     "text": [
      "Detection significance = 26.28+/-1.10\n"
     ]
    }
   ],
   "source": [
    "# get N_on and N_off from the theta-squared on and off\n",
    "N_on = theta_on_squared.size\n",
    "N_off = theta_off_squared.size\n",
    "\n",
    "N_on = unp.uarray(N_on, np.sqrt(N_on))\n",
    "N_off = unp.uarray(N_off, np.sqrt(N_off))\n",
    "\n",
    "# compute significance\n",
    "detection_significance = get_detection_significance(N_on, N_off)\n",
    "precision = 2\n",
    "print(f'Detection significance = {detection_significance:.{precision}f}')"
   ]
  },
  {
   "cell_type": "markdown",
   "id": "833c6079-1ee7-4f8c-9e08-0a6f0ee5cefe",
   "metadata": {},
   "source": [
    "## V. Energy Migration"
   ]
  },
  {
   "cell_type": "code",
   "execution_count": null,
   "id": "a21c1539-de0e-4270-a22a-07aaf0b8ff9b",
   "metadata": {},
   "outputs": [],
   "source": [
    "# get energy prediction from random forest and true energy from simulation data with selection\n",
    "energy_prediction = simulation['gamma_energy_prediction'][simulation['theta_deg']<np.sqrt(0.025)]\n",
    "true_energy = simulation['corsika_event_header_total_energy'][simulation['theta_deg']<np.sqrt(0.025)]"
   ]
  },
  {
   "cell_type": "code",
   "execution_count": null,
   "id": "b22c53c4-8a90-403d-8298-a5dfb049bf03",
   "metadata": {},
   "outputs": [
    {
     "name": "stdout",
     "output_type": "stream",
     "text": [
      "Energy Prediction, True Energy\n",
      "Max bins = (40522.96187357193, 49990.832)\n",
      "Min bins = (593.7985285226966, 205.58768)\n"
     ]
    }
   ],
   "source": [
    "# get maximal and minimal bin\n",
    "max_bin = np.max(energy_prediction), np.max(true_energy)\n",
    "min_bin = np.min(energy_prediction), np.min(true_energy)\n",
    "\n",
    "print('Energy Prediction, True Energy')\n",
    "print(f'Max bins = {max_bin}')\n",
    "print(f'Min bins = {min_bin}')"
   ]
  },
  {
   "cell_type": "code",
   "execution_count": null,
   "id": "64ec4ad3-554e-4ceb-b9e4-0ebdcdaad857",
   "metadata": {
    "tags": []
   },
   "outputs": [
    {
     "name": "stdout",
     "output_type": "stream",
     "text": [
      "[    0.           500.           702.55791324   987.17524292\n",
      "  1387.09555734  1949.02992046  2738.61278753  3848.06817036\n",
      "  5406.98148757  7597.43526168 10675.27652687 15000.\n",
      " 50000.        ]\n"
     ]
    }
   ],
   "source": [
    "# bins for energy_prediction\n",
    "number_of_bins_energy_prediction = 13\n",
    "\n",
    "bins_energy_prediction = np.ones(number_of_bins_energy_prediction)\n",
    "\n",
    "# underflow bin\n",
    "bins_energy_prediction[0] = 0\n",
    "\n",
    "# create logarithmic bins\n",
    "for i in range(1, number_of_bins_energy_prediction-1, 1):\n",
    "    bins_energy_prediction[i] = np.logspace(np.log10(500),np.log10(15e3),number_of_bins_energy_prediction-2)[i-1]\n",
    "\n",
    "#overflow bin\n",
    "bins_energy_prediction[-1] = 50e3\n",
    "\n",
    "print(bins_energy_prediction)"
   ]
  },
  {
   "cell_type": "code",
   "execution_count": null,
   "id": "c641ad04-8d1e-44df-85a0-3089fc59b0b0",
   "metadata": {},
   "outputs": [
    {
     "name": "stdout",
     "output_type": "stream",
     "text": [
      "[    0.           500.           987.17524292  1949.02992046\n",
      "  3848.06817036  7597.43526168 15000.         50000.        ]\n"
     ]
    }
   ],
   "source": [
    "# bins for true_energy\n",
    "number_of_bins_true_energy = 8\n",
    "\n",
    "bins_true_energy = np.ones(number_of_bins_true_energy)\n",
    "\n",
    "# underflow bin\n",
    "bins_true_energy[0] = 0\n",
    "\n",
    "# create logarithmic bins\n",
    "for i in range(1, number_of_bins_true_energy-1, 1):\n",
    "    bins_true_energy[i] = np.logspace(np.log10(500),np.log10(15e3), number_of_bins_true_energy-2)[i-1]\n",
    "\n",
    "#overflow bin\n",
    "bins_true_energy[-1] = 50e3\n",
    "\n",
    "print(bins_true_energy)"
   ]
  },
  {
   "cell_type": "code",
   "execution_count": null,
   "id": "85ac26d9-70a8-4e91-8161-97e2b68706b1",
   "metadata": {},
   "outputs": [],
   "source": [
    "# apply theta limit on simulation data\n",
    "simulation = simulation[simulation['theta_deg']<np.sqrt(0.025)]"
   ]
  },
  {
   "cell_type": "code",
   "execution_count": null,
   "id": "a8020fc2-0b22-4501-84b6-b9366534e2ab",
   "metadata": {},
   "outputs": [
    {
     "name": "stdout",
     "output_type": "stream",
     "text": [
      "Shape of matrix:  (12, 7)\n"
     ]
    },
    {
     "data": {
      "text/plain": [
       "<Figure size 640x480 with 0 Axes>"
      ]
     },
     "metadata": {},
     "output_type": "display_data"
    },
    {
     "data": {
      "image/png": "[encoded data removed]",
      "text/plain": [
       "<Figure size 400x685.714 with 2 Axes>"
      ]
     },
     "metadata": {},
     "output_type": "display_data"
    }
   ],
   "source": [
    "plt.figure(constrained_layout=True)\n",
    "matrix, xedge, yedge = np.histogram2d(energy_prediction, true_energy, bins=[bins_energy_prediction, bins_true_energy])\n",
    "\n",
    "matrix = matrix/np.sum(matrix,axis=0)\n",
    "plt.matshow(matrix)\n",
    "plt.ylabel('energy prediction')\n",
    "plt.xlabel('true energy')\n",
    "plt.title('energy migration matrix $A$')\n",
    "plt.colorbar()\n",
    "plt.savefig('plots/matrix.pdf')\n",
    "print('Shape of matrix: ', np.shape(matrix))"
   ]
  },
  {
   "cell_type": "code",
   "execution_count": null,
   "id": "4c950264-c827-4cde-a794-c515ddfaaf6e",
   "metadata": {},
   "outputs": [
    {
     "name": "stdout",
     "output_type": "stream",
     "text": [
      "[[0.00000000e+00 0.00000000e+00 0.00000000e+00 0.00000000e+00\n",
      "  0.00000000e+00 0.00000000e+00 0.00000000e+00]\n",
      " [2.31055901e-01 5.25700023e-02 1.76890964e-03 0.00000000e+00\n",
      "  0.00000000e+00 0.00000000e+00 0.00000000e+00]\n",
      " [6.78260870e-01 6.36026831e-01 1.12838746e-01 2.10465619e-03\n",
      "  1.37117784e-04 0.00000000e+00 0.00000000e+00]\n",
      " [7.45341615e-02 2.79658373e-01 4.24396802e-01 3.11950411e-02\n",
      "  2.46812012e-03 0.00000000e+00 0.00000000e+00]\n",
      " [1.49068323e-02 2.79619374e-02 3.67844760e-01 2.01297391e-01\n",
      "  1.43973673e-02 3.98962697e-04 0.00000000e+00]\n",
      " [1.24223602e-03 3.04188441e-03 8.43062336e-02 4.40219115e-01\n",
      "  6.25942685e-02 1.99481348e-03 0.00000000e+00]\n",
      " [0.00000000e+00 6.23976289e-04 7.80089153e-03 2.64292922e-01\n",
      "  2.20485397e-01 2.23419110e-02 1.82815356e-03]\n",
      " [0.00000000e+00 1.16995554e-04 8.84454822e-04 5.64797463e-02\n",
      "  4.16700946e-01 8.83702374e-02 5.48446069e-03]\n",
      " [0.00000000e+00 0.00000000e+00 1.59201868e-04 4.15165057e-03\n",
      "  2.39201974e-01 2.65908638e-01 2.80316880e-02]\n",
      " [0.00000000e+00 0.00000000e+00 0.00000000e+00 2.59478161e-04\n",
      "  4.05183052e-02 3.86594853e-01 1.20048751e-01]\n",
      " [0.00000000e+00 0.00000000e+00 0.00000000e+00 0.00000000e+00\n",
      "  3.42794460e-03 2.04667864e-01 2.79098111e-01]\n",
      " [0.00000000e+00 0.00000000e+00 0.00000000e+00 0.00000000e+00\n",
      "  6.85588921e-05 2.97227209e-02 5.65508836e-01]]\n"
     ]
    }
   ],
   "source": [
    "print(matrix)"
   ]
  },
  {
   "cell_type": "markdown",
   "id": "10db40bc-5096-499c-bc3e-570f83134e1b",
   "metadata": {},
   "source": [
    "## VI. Naive SVD Unfolding"
   ]
  },
  {
   "cell_type": "code",
   "execution_count": null,
   "id": "7f7d14c1-b3b2-40a7-ab2a-487311592eb7",
   "metadata": {},
   "outputs": [],
   "source": [
    "# put background in bins\n",
    "background1 = data['gamma_energy_prediction'][data['theta_deg_off_1']<np.sqrt(0.025)]\n",
    "background2 = data['gamma_energy_prediction'][data['theta_deg_off_2']<np.sqrt(0.025)]\n",
    "background3 = data['gamma_energy_prediction'][data['theta_deg_off_3']<np.sqrt(0.025)]\n",
    "background4 = data['gamma_energy_prediction'][data['theta_deg_off_4']<np.sqrt(0.025)]\n",
    "background5 = data['gamma_energy_prediction'][data['theta_deg_off_5']<np.sqrt(0.025)]\n",
    "\n",
    "background = pd.concat([background1, background2, background3, background4, background5])\n",
    "\n",
    "b, bins_b = np.histogram(background, bins=xedge)\n",
    "\n",
    "# average the five off positions\n",
    "b = b/5\n",
    "b = unp.uarray(b, np.sqrt(b))"
   ]
  },
  {
   "cell_type": "code",
   "execution_count": null,
   "id": "e6416aa3-ff95-4fb3-ad76-4fec0d5c834e",
   "metadata": {},
   "outputs": [],
   "source": [
    "# put estimated energies in bins\n",
    "g, bins_g = np.histogram(data['gamma_energy_prediction'][data['theta_deg']<np.sqrt(0.025)], bins=xedge)\n",
    "\n",
    "g = unp.uarray(g, np.sqrt(g))"
   ]
  },
  {
   "cell_type": "code",
   "execution_count": null,
   "id": "aa3de89c-c55b-45e7-8857-af28d458d76e",
   "metadata": {},
   "outputs": [
    {
     "name": "stdout",
     "output_type": "stream",
     "text": [
      "[[-3.16712418e-15  3.67026028e+00  3.70914269e-01 -1.72583365e+00\n",
      "   1.99119817e+00 -5.31961583e-01 -4.76535113e-01  2.09981307e-01\n",
      "   1.25408197e-01 -8.48608370e-02 -4.48368334e-02  3.34308740e-02]\n",
      " [ 3.92875345e-15 -3.90480604e+00  1.18115318e+00  1.88410598e+00\n",
      "  -2.70024946e+00  7.40921917e-01  6.55078307e-01 -2.88991971e-01\n",
      "  -1.72498058e-01  1.16701059e-01  6.16657960e-02 -4.59724567e-02]\n",
      " [-1.63626925e-15  1.25722623e+00 -5.66334524e-01  8.53045349e-01\n",
      "   2.07471393e+00 -7.04717127e-01 -5.58180686e-01  2.49845354e-01\n",
      "   1.48037729e-01 -1.00180316e-01 -5.29527431e-02  3.94440485e-02]\n",
      " [ 7.16148875e-16 -4.38839092e-01  1.87265067e-01 -3.56133814e-01\n",
      "  -9.58822486e-02  1.89596004e+00  8.69905052e-01 -5.90367604e-01\n",
      "  -3.00161403e-01  2.26239202e-01  1.17069325e-01 -8.80127757e-02]\n",
      " [-2.54761332e-16  1.50361191e-01 -6.33239475e-02  1.20318885e-01\n",
      "  -2.02659416e-03 -5.87120043e-01  5.46667820e-01  1.91946632e+00\n",
      "   6.13331628e-01 -7.26104744e-01 -3.47997849e-01  2.75104735e-01]\n",
      " [ 3.68396896e-16 -5.46108424e-02  2.29721094e-02 -4.37434081e-02\n",
      "   3.04445707e-03  2.02915967e-01 -2.29245833e-01 -5.65041581e-01\n",
      "   8.17372513e-01  1.86494131e+00  6.79541839e-01 -7.65570715e-01]\n",
      " [-9.07399605e-17  1.23610372e-02 -5.19887955e-03  9.90336659e-03\n",
      "  -7.59646644e-04 -4.56509125e-02  5.35214461e-02  1.19300474e-01\n",
      "  -2.08100307e-01 -2.62507680e-01  4.77319731e-01  1.59745681e+00]]\n"
     ]
    }
   ],
   "source": [
    "# compute Moore-Penrose inverse\n",
    "matrix_inverse = np.linalg.pinv(matrix)\n",
    "print(matrix_inverse)"
   ]
  },
  {
   "cell_type": "code",
   "execution_count": null,
   "id": "7518b7b1-44ff-44b7-802f-81d1d0bd6bf6",
   "metadata": {},
   "outputs": [
    {
     "name": "stdout",
     "output_type": "stream",
     "text": [
      "[210.21412235375345+/-60.87596837753002\n",
      " 235.60702627552382+/-36.73728066611545\n",
      " 102.4708422788982+/-24.205279710878557\n",
      " 63.463460731838985+/-16.530707158186505\n",
      " 16.903200387555977+/-9.938095967118702]\n"
     ]
    }
   ],
   "source": [
    "ev = g-b\n",
    "fNSVD = matrix_inverse@ev\n",
    "# remove the overflow and underflow bins\n",
    "fNSVD = fNSVD[1:-1]\n",
    "print(fNSVD)"
   ]
  },
  {
   "cell_type": "code",
   "execution_count": null,
   "id": "cdeaf4b6-f339-4075-bdf9-bb9dc6145cc1",
   "metadata": {},
   "outputs": [],
   "source": [
    "# plot\n",
    "xpos = [yedge[i]-(yedge[i] - yedge[i-1])/2 for i in range(1,len(yedge))]\n",
    "xpos = xpos[1:-1]\n",
    "xerr = [(yedge[i] - yedge[i-1])/2 for i in range(2,len(yedge)-1)]"
   ]
  },
  {
   "cell_type": "code",
   "execution_count": null,
   "id": "15303b38-59b3-46ee-b8df-e6239aad77f0",
   "metadata": {},
   "outputs": [
    {
     "data": {
      "image/png": "[encoded data removed]",
      "text/plain": [
       "<Figure size 640x480 with 1 Axes>"
      ]
     },
     "metadata": {},
     "output_type": "display_data"
    }
   ],
   "source": [
    "plt.errorbar(xpos, unp.nominal_values(fNSVD), xerr=xerr, yerr=unp.std_devs(fNSVD), fmt='rx', label='Naive SVD')\n",
    "plt.xscale('log')\n",
    "plt.yscale('log')\n",
    "plt.xlabel(r'$\\mathrm{E}_\\mathrm{est}$ / GeV')\n",
    "plt.ylabel('Number of events')\n",
    "plt.legend()\n",
    "plt.savefig('plots/naiveSVDunfolding.pdf')"
   ]
  },
  {
   "cell_type": "markdown",
   "id": "86831735-fc3a-4bad-bbd9-4f5fa854218e",
   "metadata": {},
   "source": [
    "## VII. Poisson Likelihood Unfolding"
   ]
  },
  {
   "cell_type": "code",
   "execution_count": null,
   "id": "50e85f83-d77b-47b6-a588-4a9c055bf6d2",
   "metadata": {},
   "outputs": [
    {
     "name": "stdout",
     "output_type": "stream",
     "text": [
      "Estimation: [188.753761   241.06138893  99.48638328  67.19877996  13.37469574]\n",
      "Error: [50.73153948 24.11769219 19.04481385 11.13951851  7.97379867]\n"
     ]
    }
   ],
   "source": [
    "def negativeLogLikelihood(f, A, b, g):\n",
    "    '''Returns the negative log-likelihood function for given f, A, b and g'''\n",
    "    lam = A@f+b\n",
    "    return -poisson.logpmf(g, lam).sum()\n",
    "\n",
    "# bin the energy prediction\n",
    "f, f_bins = np.histogram(simulation['gamma_energy_prediction'][simulation['theta_deg']<np.sqrt(0.025)], bins=yedge)\n",
    "\n",
    "# set bounds for minimizer\n",
    "Bounds= [(1,100000)]*len(f)\n",
    "\n",
    "estimator = minimize(negativeLogLikelihood, f+100, args=(matrix, unp.nominal_values(b), unp.nominal_values(g)), method='L-BFGS-B', bounds=Bounds)\n",
    "\n",
    "# get estimator\n",
    "f_estimate = estimator['x']\n",
    "f_estimate_plot = f_estimate[1:-1]\n",
    "print(f'Estimation: {f_estimate_plot}')\n",
    "\n",
    "# get Hessematrix for error calculation\n",
    "Hesse_inverse = estimator['hess_inv'].todense()\n",
    "# print(f'Inverse Hesse Matrix: {Hesse_inverse}')\n",
    "\n",
    "# compute poisson error of diagonal\n",
    "diag = np.diag(Hesse_inverse)\n",
    "diag_sqrt = np.sqrt(diag[1:-1])\n",
    "print(f'Error: {diag_sqrt}')\n",
    "\n",
    "f_estimate_plot = unp.uarray(f_estimate_plot, diag_sqrt)"
   ]
  },
  {
   "cell_type": "code",
   "execution_count": null,
   "id": "0342c8bb-a2aa-4928-a041-fdd6b01ebcaa",
   "metadata": {},
   "outputs": [
    {
     "data": {
      "image/png": "[encoded data removed]",
      "text/plain": [
       "<Figure size 640x480 with 1 Axes>"
      ]
     },
     "metadata": {},
     "output_type": "display_data"
    }
   ],
   "source": [
    "# plot\n",
    "plt.errorbar(xpos, unp.nominal_values(f_estimate_plot), xerr=xerr, yerr=unp.std_devs(f_estimate_plot), fmt='bx', label='Poisson Likelihood')\n",
    "plt.xscale('log')\n",
    "plt.yscale('log')\n",
    "plt.xlabel(r'$\\mathrm{E}_\\mathrm{est}$ / GeV')\n",
    "plt.ylabel('Number of events')\n",
    "plt.legend()\n",
    "plt.savefig('plots/poissonlikelihood.pdf')"
   ]
  },
  {
   "cell_type": "code",
   "execution_count": null,
   "id": "34296bb8-ebd2-4e67-8d23-e60f3591dc67",
   "metadata": {},
   "outputs": [
    {
     "data": {
      "image/png": "[encoded data removed]",
      "text/plain": [
       "<Figure size 640x480 with 1 Axes>"
      ]
     },
     "metadata": {},
     "output_type": "display_data"
    }
   ],
   "source": [
    "# combined plot\n",
    "plt.errorbar(xpos, unp.nominal_values(fNSVD), xerr=xerr, yerr=unp.std_devs(fNSVD), fmt='rx', label='Naive SVD')\n",
    "plt.errorbar(xpos, unp.nominal_values(f_estimate_plot), xerr=xerr, yerr=unp.std_devs(f_estimate_plot), fmt='bx', label='Poisson Likelihood')\n",
    "plt.xscale('log')\n",
    "plt.yscale('log')\n",
    "plt.xlabel(r'$\\mathrm{E}_\\mathrm{est}$ / GeV')\n",
    "plt.ylabel('Number of events')\n",
    "plt.legend()\n",
    "plt.savefig('plots/unfolding.pdf')"
   ]
  },
  {
   "cell_type": "markdown",
   "id": "9f4eb550-eb31-4524-bf9a-52ccf34a7faf",
   "metadata": {},
   "source": [
    "## VIII. Acceptance Correction and Calculation of the Flux"
   ]
  },
  {
   "cell_type": "code",
   "execution_count": null,
   "id": "b5631e25-8276-49d9-b90b-066dbaa5fc64",
   "metadata": {},
   "outputs": [],
   "source": [
    "# functions to compute flux and effective area\n",
    "def get_flux(f, A, dE, t):\n",
    "    return (f)/(A*dE*t)\n",
    "\n",
    "def get_A_eff(N_selected, N_simulated, A):\n",
    "    return (N_selected/N_simulated)*(A/0.7)"
   ]
  },
  {
   "cell_type": "code",
   "execution_count": null,
   "id": "9a1d4166-27c4-4106-bd6c-1a489888eb57",
   "metadata": {},
   "outputs": [],
   "source": [
    "A = np.pi*27000**2\n",
    "dE = np.diff(yedge[1:-1])*10**(-3)\n",
    "t = runs['ontime'].sum()\n",
    "N_selected, _ = np.histogram(simulation['gamma_energy_prediction'], bins=yedge)\n",
    "N_simulated, _ = np.histogram(test['total_energy'], bins=yedge)"
   ]
  },
  {
   "cell_type": "code",
   "execution_count": null,
   "id": "7f045b76-a871-40d4-a915-de68c30d278f",
   "metadata": {},
   "outputs": [
    {
     "name": "stdout",
     "output_type": "stream",
     "text": [
      "[3.14066687e+07 2.44481124e+08 4.32338918e+08 5.49470259e+08\n",
      " 5.50166488e+08]\n"
     ]
    }
   ],
   "source": [
    "# compute effective area\n",
    "A_eff = get_A_eff(N_selected[1:-1], N_simulated[1:-1], A)\n",
    "print(A_eff)"
   ]
  },
  {
   "cell_type": "code",
   "execution_count": null,
   "id": "6f4e489b-9824-4929-9c55-4b39e7d9e4fa",
   "metadata": {},
   "outputs": [],
   "source": [
    "# compute flux for Naive SVD and poisson log-likelihood\n",
    "flux_NSVD = get_flux(fNSVD, A=A_eff, dE=dE, t=t)\n",
    "flux_poisson = get_flux(f_estimate_plot, A=A_eff, dE=dE, t=t)"
   ]
  },
  {
   "cell_type": "code",
   "execution_count": null,
   "id": "5161b7d1-35b0-4a32-8c6b-b5e4c6867d93",
   "metadata": {},
   "outputs": [
    {
     "name": "stdout",
     "output_type": "stream",
     "text": [
      "Flux NSVD: [2.152910359452178e-10+/-6.234619325009752e-11\n",
      " 1.5700178306894988e-11+/-2.4480673012440535e-12\n",
      " 1.9557502946366766e-12+/-4.619800313289951e-13\n",
      " 4.82717162115285e-13+/-1.2573622609198973e-13\n",
      " 6.503748445570482e-14+/-3.8238247619464003e-14]\n",
      "Flux Poisson: [1.9331238210452057e-10+/-5.195676469482937e-11\n",
      " 1.6063641432764788e-11+/-1.6071340220845675e-12\n",
      " 1.89878914908762e-12+/-3.6348779296364476e-13\n",
      " 5.11128828848541e-13+/-8.472964919144011e-14\n",
      " 5.1461057466638256e-14+/-3.068033241632281e-14]\n"
     ]
    }
   ],
   "source": [
    "print(f'Flux NSVD: {flux_NSVD}')\n",
    "print(f'Flux Poisson: {flux_poisson}')"
   ]
  },
  {
   "cell_type": "code",
   "execution_count": null,
   "id": "0b99c614-4f8f-4c8a-8df7-08250b1768e3",
   "metadata": {},
   "outputs": [
    {
     "data": {
      "image/png": "[encoded data removed]",
      "text/plain": [
       "<Figure size 640x480 with 1 Axes>"
      ]
     },
     "metadata": {},
     "output_type": "display_data"
    }
   ],
   "source": [
    "plt.errorbar(xpos, unp.nominal_values(flux_NSVD), xerr=xerr, yerr=unp.std_devs(flux_NSVD), fmt ='rx', label='Naive SVD')\n",
    "plt.errorbar(xpos, unp.nominal_values(flux_poisson), xerr=xerr, yerr=unp.std_devs(flux_poisson), fmt ='bx', label='Poisson Likelihood') \n",
    "plt.xscale('log')\n",
    "plt.yscale('log')\n",
    "plt.xlabel('True energy /GeV')\n",
    "plt.ylabel(r'$\\frac{\\mathrm{d}N}{\\mathrm{d}E \\, \\mathrm{d}A \\, \\mathrm{d}t}$ cm$^{-2}$ s$^{-1}$')\n",
    "plt.legend()\n",
    "plt.savefig('plots/flux.pdf')"
   ]
  },
  {
   "cell_type": "markdown",
   "id": "00151860-e05a-43a7-97c7-81c8bda2176a",
   "metadata": {},
   "source": [
    "## IX. Comparison with MAGIC"
   ]
  },
  {
   "cell_type": "code",
   "execution_count": null,
   "id": "39542460-aa71-4b90-b54e-512dc30e6378",
   "metadata": {},
   "outputs": [],
   "source": [
    "def log_parabola(E, f, E0, alpha, beta):\n",
    "    return f * (E/E0) ** (-alpha + beta * np.log(E/E0))\n",
    "\n",
    "def HEGRA(E, phi0, gamma):\n",
    "    return phi0*(E*10**(-3))**(gamma)"
   ]
  },
  {
   "cell_type": "code",
   "execution_count": null,
   "id": "87e2f8e4-a33f-4b00-b1bd-8df9a9c20bd3",
   "metadata": {},
   "outputs": [
    {
     "data": {
      "image/png": "[encoded data removed]",
      "text/plain": [
       "<Figure size 640x480 with 1 Axes>"
      ]
     },
     "metadata": {},
     "output_type": "display_data"
    }
   ],
   "source": [
    "# plot log_parabola for MAGIC telescope with Poisson Likelihood\n",
    "x_MAGIC = np.linspace(450, 17000, 10000)\n",
    "y_MAGIC = log_parabola(x_MAGIC, 3.23*10**(-11), 1000, 2.47,-0.24)\n",
    "\n",
    "#plot HEGRA telescope curve\n",
    "x_HEGRA = np.linspace(450, 17000, 10000)\n",
    "y_HEGRA = HEGRA(x_HEGRA, 2.83e-11, -2.62)\n",
    "\n",
    "plt.plot(x_MAGIC, y_MAGIC, '-c', label='MAGIC')\n",
    "plt.plot(x_HEGRA, y_HEGRA, '-m', label='HEGRA')\n",
    "plt.errorbar(xpos, unp.nominal_values(flux_poisson), xerr=xerr, yerr=unp.std_devs(flux_poisson), fmt ='bx', label='Poisson Likelihood') \n",
    "plt.xscale('log')\n",
    "plt.yscale('log')\n",
    "plt.xlabel('True energy /GeV')\n",
    "plt.ylabel(r'$\\frac{\\mathrm{d}N}{\\mathrm{d}E \\, \\mathrm{d}A \\, \\mathrm{d}t}$ cm$^{-2}$ s$^{-1}$')\n",
    "plt.legend()\n",
    "plt.savefig('plots/comparison.pdf')"
   ]
  },
  {
   "cell_type": "code",
   "execution_count": null,
   "id": "93e80ae5-a4a7-42b0-ab64-b4b76117850e",
   "metadata": {},
   "outputs": [],
   "source": []
  }
 ],
 "metadata": {
  "kernelspec": {
   "display_name": "fp-fact",
   "language": "python",
   "name": "python3"
  },
  "language_info": {
   "codemirror_mode": {
    "name": "ipython",
    "version": 3
   },
   "file_extension": ".py",
   "mimetype": "text/x-python",
   "name": "python",
   "nbconvert_exporter": "python",
   "pygments_lexer": "ipython3",
   "version": "3.7.16"
  }
 },
 "nbformat": 4,
 "nbformat_minor": 5
}
